{
 "cells": [
  {
   "cell_type": "code",
   "execution_count": 61,
   "metadata": {},
   "outputs": [],
   "source": [
    "from keras.applications.vgg16 import VGG16\n",
    "from keras.applications.vgg16 import preprocess_input, decode_predictions\n",
    "\n",
    "from keras.preprocessing.image import load_img\n",
    "from keras.preprocessing.image import img_to_array, array_to_img\n",
    "\n",
    "from keras import Model\n",
    "from keras.layers import Dense, Flatten\n",
    "from keras.optimizers import SGD\n",
    "from keras.utils import to_categorical"
   ]
  },
  {
   "cell_type": "code",
   "execution_count": 62,
   "metadata": {},
   "outputs": [],
   "source": [
    "vgg = VGG16()"
   ]
  },
  {
   "cell_type": "code",
   "execution_count": 63,
   "metadata": {},
   "outputs": [],
   "source": [
    "def predict_image_using_vgg(img_path, vgg):\n",
    "    \"\"\"\n",
    "    Open image, convert it to an array, and run predictions\n",
    "    using a trained model.\n",
    "    \"\"\"\n",
    "    # load an image from file\n",
    "    image = load_img(img_path, target_size=(224, 224))\n",
    "    # convert the image pixels to a numpy array\n",
    "    image = img_to_array(image)\n",
    "    # reshape data for the model\n",
    "    image = image.reshape(\n",
    "        (1, image.shape[0], image.shape[1], image.shape[2]))\n",
    "    image = preprocess_input(image)\n",
    "    y_pred = vgg.predict(image)\n",
    "    print(y_pred.shape)\n",
    "    labels = decode_predictions(y_pred)[0]\n",
    "    for label in labels:\n",
    "        print(label)\n",
    "        "
   ]
  },
  {
   "cell_type": "code",
   "execution_count": 64,
   "metadata": {},
   "outputs": [
    {
     "name": "stdout",
     "output_type": "stream",
     "text": [
      "(1, 1000)\n",
      "('n03063599', 'coffee_mug', 0.75266147)\n",
      "('n03063689', 'coffeepot', 0.08365984)\n",
      "('n07930864', 'cup', 0.06440081)\n",
      "('n04398044', 'teapot', 0.030264238)\n",
      "('n03950228', 'pitcher', 0.025889609)\n"
     ]
    }
   ],
   "source": [
    "predict_image_using_vgg('../img/mug.jpg', vgg)"
   ]
  },
  {
   "cell_type": "markdown",
   "metadata": {},
   "source": [
    "### Creating a dataset"
   ]
  },
  {
   "cell_type": "code",
   "execution_count": 65,
   "metadata": {},
   "outputs": [],
   "source": [
    "import os\n",
    "import glob\n",
    "import numpy as np\n",
    "\n",
    "def create_dataset(folder):\n",
    "    all_images = []\n",
    "    image_arrays = []\n",
    "    all_labels = []\n",
    "    filenames = []\n",
    "    for class_id, label in enumerate(os.listdir(folder)):\n",
    "        if \".DS_Store\"!=label :\n",
    "            print(class_id, label)\n",
    "        \n",
    "            for filename in glob.glob(folder + '/{}/*'.format(label)):\n",
    "                filenames.append(filename)\n",
    "                im = load_img(filename, target_size=(224, 224))\n",
    "                all_images.append(im)\n",
    "                preprocessed = preprocess_input(img_to_array(im))\n",
    "                image_arrays.append(preprocessed)\n",
    "                all_labels.append(class_id)\n",
    "        \n",
    "    X = np.array(image_arrays)\n",
    "    Y = to_categorical(np.array(all_labels))\n",
    "    return X, Y, filenames, all_images"
   ]
  },
  {
   "cell_type": "code",
   "execution_count": 66,
   "metadata": {},
   "outputs": [
    {
     "name": "stdout",
     "output_type": "stream",
     "text": [
      "0 tshirt\n",
      "1 bonnet\n",
      "3 chaussure\n",
      "4 sweatshirt\n",
      "5 chausette\n",
      "6 pantalon\n",
      "7 boxer\n"
     ]
    }
   ],
   "source": [
    "X, Y, filenames, all_images = create_dataset('../img/vetements')"
   ]
  },
  {
   "cell_type": "code",
   "execution_count": 67,
   "metadata": {},
   "outputs": [
    {
     "data": {
      "text/plain": [
       "(1053, 224, 224, 3)"
      ]
     },
     "execution_count": 67,
     "metadata": {},
     "output_type": "execute_result"
    }
   ],
   "source": [
    "X.shape"
   ]
  },
  {
   "cell_type": "code",
   "execution_count": 68,
   "metadata": {},
   "outputs": [
    {
     "data": {
      "text/plain": [
       "array([[[131.061, 118.221, 111.32 ],\n",
       "        [131.061, 118.221, 111.32 ]],\n",
       "\n",
       "       [[130.061, 117.221, 110.32 ],\n",
       "        [130.061, 117.221, 110.32 ]]], dtype=float32)"
      ]
     },
     "execution_count": 68,
     "metadata": {},
     "output_type": "execute_result"
    }
   ],
   "source": [
    "X[0][:2,:2]\n"
   ]
  },
  {
   "cell_type": "markdown",
   "metadata": {},
   "source": [
    "len(all_images), len(all_labels), len(image_arrays)"
   ]
  },
  {
   "cell_type": "code",
   "execution_count": 69,
   "metadata": {},
   "outputs": [
    {
     "data": {
      "text/plain": [
       "((1053, 224, 224, 3), (1053, 8), 1053, 1053)"
      ]
     },
     "execution_count": 69,
     "metadata": {},
     "output_type": "execute_result"
    }
   ],
   "source": [
    "X.shape, Y.shape, len(filenames), len(all_images)"
   ]
  },
  {
   "cell_type": "code",
   "execution_count": 70,
   "metadata": {},
   "outputs": [
    {
     "data": {
      "text/plain": [
       "array([[1., 0., 0., ..., 0., 0., 0.],\n",
       "       [1., 0., 0., ..., 0., 0., 0.],\n",
       "       [1., 0., 0., ..., 0., 0., 0.],\n",
       "       ...,\n",
       "       [0., 0., 0., ..., 0., 0., 1.],\n",
       "       [0., 0., 0., ..., 0., 0., 1.],\n",
       "       [0., 0., 0., ..., 0., 0., 1.]], dtype=float32)"
      ]
     },
     "execution_count": 70,
     "metadata": {},
     "output_type": "execute_result"
    }
   ],
   "source": [
    "Y"
   ]
  },
  {
   "cell_type": "code",
   "execution_count": 71,
   "metadata": {},
   "outputs": [
    {
     "data": {
      "text/plain": [
       "['../img/vetements/tshirt/T-Shirt-Porteur-Saint-zoom-500x630.png',\n",
       " '../img/vetements/tshirt/t-shirt-canard.jpg',\n",
       " '../img/vetements/tshirt/size-discout-hot-new-tshirt-couleur-jersey.jpg']"
      ]
     },
     "execution_count": 71,
     "metadata": {},
     "output_type": "execute_result"
    }
   ],
   "source": [
    "filenames[:3]"
   ]
  },
  {
   "cell_type": "code",
   "execution_count": 72,
   "metadata": {},
   "outputs": [
    {
     "name": "stdout",
     "output_type": "stream",
     "text": [
      "(1, 1000)\n",
      "('n03595614', 'jersey', 0.9713966)\n",
      "('n04370456', 'sweatshirt', 0.026713574)\n",
      "('n03710637', 'maillot', 0.00030555722)\n",
      "('n03291819', 'envelope', 0.00017204355)\n",
      "('n02730930', 'apron', 0.00016864049)\n"
     ]
    },
    {
     "data": {
      "image/png": "[encoded data removed]",
      "text/plain": [
       "<PIL.Image.Image image mode=RGB size=224x224 at 0x138752F60>"
      ]
     },
     "execution_count": 72,
     "metadata": {},
     "output_type": "execute_result"
    }
   ],
   "source": [
    "img_id = 11\n",
    "predict_image_using_vgg(filenames[img_id], vgg)\n",
    "all_images[img_id]"
   ]
  },
  {
   "cell_type": "markdown",
   "metadata": {},
   "source": [
    "####  TODO Commentaire sur le résultat de VGG16 (est-ce que les classes ont du sens pour notre example ou pas)"
   ]
  },
  {
   "cell_type": "markdown",
   "metadata": {},
   "source": [
    "### Transfer learning"
   ]
  },
  {
   "cell_type": "code",
   "execution_count": 73,
   "metadata": {},
   "outputs": [],
   "source": [
    "# Charger VGG-16 pré-entraîné sur ImageNet\n",
    "# mais sans les couches fully-connected\n",
    "vgg_cut = VGG16(weights=\"imagenet\", include_top=False,\n",
    "                input_shape=(224, 224, 3))\n",
    "x = vgg_cut.output\n",
    "# transform matrix into 1-d vector\n",
    "x = Flatten()(x)\n",
    "\n",
    "# TODO essayer de modifier le nombre de neurones  \n",
    "x = Dense(30, activation='relu')(x) \n",
    "\n",
    "# TODO parametrer le nombre de classes (9 ici)\n",
    "nb_classes = 8\n",
    "x = Dense(nb_classes, activation='softmax')(x)  \n",
    "\n"
   ]
  },
  {
   "cell_type": "code",
   "execution_count": null,
   "metadata": {},
   "outputs": [],
   "source": []
  },
  {
   "cell_type": "code",
   "execution_count": 74,
   "metadata": {},
   "outputs": [],
   "source": [
    "custom_model = Model(inputs=vgg_cut.input, outputs=x)"
   ]
  },
  {
   "cell_type": "code",
   "execution_count": 75,
   "metadata": {},
   "outputs": [],
   "source": [
    "# stratégie de Transfer Learning: extraction de features\n",
    "# On entraîne seulement le nouveau classificateur,\n",
    "# et on NE ré-entraîne PAS les autres couches.\n",
    "# On utilise les autres couches uniquement pour \n",
    "# extraire des features des images\n",
    "for layer in custom_model.layers[:-2]:\n",
    "    layer.trainable = False"
   ]
  },
  {
   "cell_type": "code",
   "execution_count": 76,
   "metadata": {},
   "outputs": [
    {
     "name": "stdout",
     "output_type": "stream",
     "text": [
      "_________________________________________________________________\n",
      "Layer (type)                 Output Shape              Param #   \n",
      "=================================================================\n",
      "input_4 (InputLayer)         (None, 224, 224, 3)       0         \n",
      "_________________________________________________________________\n",
      "block1_conv1 (Conv2D)        (None, 224, 224, 64)      1792      \n",
      "_________________________________________________________________\n",
      "block1_conv2 (Conv2D)        (None, 224, 224, 64)      36928     \n",
      "_________________________________________________________________\n",
      "block1_pool (MaxPooling2D)   (None, 112, 112, 64)      0         \n",
      "_________________________________________________________________\n",
      "block2_conv1 (Conv2D)        (None, 112, 112, 128)     73856     \n",
      "_________________________________________________________________\n",
      "block2_conv2 (Conv2D)        (None, 112, 112, 128)     147584    \n",
      "_________________________________________________________________\n",
      "block2_pool (MaxPooling2D)   (None, 56, 56, 128)       0         \n",
      "_________________________________________________________________\n",
      "block3_conv1 (Conv2D)        (None, 56, 56, 256)       295168    \n",
      "_________________________________________________________________\n",
      "block3_conv2 (Conv2D)        (None, 56, 56, 256)       590080    \n",
      "_________________________________________________________________\n",
      "block3_conv3 (Conv2D)        (None, 56, 56, 256)       590080    \n",
      "_________________________________________________________________\n",
      "block3_pool (MaxPooling2D)   (None, 28, 28, 256)       0         \n",
      "_________________________________________________________________\n",
      "block4_conv1 (Conv2D)        (None, 28, 28, 512)       1180160   \n",
      "_________________________________________________________________\n",
      "block4_conv2 (Conv2D)        (None, 28, 28, 512)       2359808   \n",
      "_________________________________________________________________\n",
      "block4_conv3 (Conv2D)        (None, 28, 28, 512)       2359808   \n",
      "_________________________________________________________________\n",
      "block4_pool (MaxPooling2D)   (None, 14, 14, 512)       0         \n",
      "_________________________________________________________________\n",
      "block5_conv1 (Conv2D)        (None, 14, 14, 512)       2359808   \n",
      "_________________________________________________________________\n",
      "block5_conv2 (Conv2D)        (None, 14, 14, 512)       2359808   \n",
      "_________________________________________________________________\n",
      "block5_conv3 (Conv2D)        (None, 14, 14, 512)       2359808   \n",
      "_________________________________________________________________\n",
      "block5_pool (MaxPooling2D)   (None, 7, 7, 512)         0         \n",
      "_________________________________________________________________\n",
      "flatten_2 (Flatten)          (None, 25088)             0         \n",
      "_________________________________________________________________\n",
      "dense_3 (Dense)              (None, 30)                752670    \n",
      "_________________________________________________________________\n",
      "dense_4 (Dense)              (None, 8)                 248       \n",
      "=================================================================\n",
      "Total params: 15,467,606\n",
      "Trainable params: 752,918\n",
      "Non-trainable params: 14,714,688\n",
      "_________________________________________________________________\n"
     ]
    }
   ],
   "source": [
    "custom_model.summary()"
   ]
  },
  {
   "cell_type": "code",
   "execution_count": 77,
   "metadata": {},
   "outputs": [],
   "source": [
    "# Compiler le modèle \n",
    "custom_model.compile(\n",
    "    loss=\"categorical_crossentropy\",\n",
    "    optimizer=SGD(lr=0.0001, momentum=0.9),\n",
    "    metrics=[\"accuracy\"])"
   ]
  },
  {
   "cell_type": "code",
   "execution_count": 78,
   "metadata": {},
   "outputs": [
    {
     "name": "stdout",
     "output_type": "stream",
     "text": [
      "Epoch 1/3\n",
      "1053/1053 [==============================] - 261s 247ms/step - loss: 4.0328 - acc: 0.6942\n",
      "Epoch 2/3\n",
      "1053/1053 [==============================] - 265s 252ms/step - loss: 2.2714 - acc: 0.8386\n",
      "Epoch 3/3\n",
      "1053/1053 [==============================] - 267s 253ms/step - loss: 1.7349 - acc: 0.8670\n"
     ]
    },
    {
     "data": {
      "text/plain": [
       "<keras.callbacks.History at 0x1375d8c50>"
      ]
     },
     "execution_count": 78,
     "metadata": {},
     "output_type": "execute_result"
    }
   ],
   "source": [
    "# Entraîner sur toutes les données\n",
    "# (X_train, Y_train)\n",
    "custom_model.fit(X, Y,\n",
    "                 epochs=3, batch_size=5)\n",
    "# TODO essayer de changer epochs=3 (5, 10)"
   ]
  },
  {
   "cell_type": "markdown",
   "metadata": {},
   "source": [
    "#### Utilisons notre modèle entrainé pour faire des prédictions sur les images de test"
   ]
  },
  {
   "cell_type": "code",
   "execution_count": 79,
   "metadata": {},
   "outputs": [],
   "source": [
    "# télécharger les images de test (sans libellé, tout dossier TEST)\n",
    "def load_test_set(folder):\n",
    "    all_images = []\n",
    "    image_arrays = []\n",
    "    filenames = []\n",
    "    for filename in glob.glob(folder + '/*'):\n",
    "        filenames.append(filename)\n",
    "        im = load_img(filename, target_size=(224, 224))\n",
    "        all_images.append(im)\n",
    "        preprocessed = preprocess_input(img_to_array(im))\n",
    "        image_arrays.append(preprocessed)\n",
    "    X = np.array(image_arrays)\n",
    "    return X, filenames, all_images"
   ]
  },
  {
   "cell_type": "code",
   "execution_count": 80,
   "metadata": {},
   "outputs": [],
   "source": [
    "X_test, test_filenames, test_images = load_test_set(\n",
    "    '../img/vetements_test/')"
   ]
  },
  {
   "cell_type": "code",
   "execution_count": 81,
   "metadata": {},
   "outputs": [],
   "source": [
    "def get_labels(folder):\n",
    "    labels = []\n",
    "    class_ids = []\n",
    "    for class_id, label in enumerate(os.listdir(folder)):\n",
    "        # on créer les labels et leurs id correspondant sans prendre en compte le dossier DS_store\n",
    "        if \".DS_Store\"!=label :\n",
    "            labels.append(label)\n",
    "            if(class_id>2) :\n",
    "                class_id = class_id - 1\n",
    "            class_ids.append(class_id)\n",
    "            print(class_id, label)\n",
    "    return labels, class_ids"
   ]
  },
  {
   "cell_type": "code",
   "execution_count": 82,
   "metadata": {},
   "outputs": [
    {
     "name": "stdout",
     "output_type": "stream",
     "text": [
      "0 tshirt\n",
      "1 bonnet\n",
      "2 chaussure\n",
      "3 sweatshirt\n",
      "4 chausette\n",
      "5 pantalon\n",
      "6 boxer\n"
     ]
    }
   ],
   "source": [
    "test_labels, test_classid = get_labels('../img/vetements')"
   ]
  },
  {
   "cell_type": "code",
   "execution_count": 83,
   "metadata": {},
   "outputs": [],
   "source": [
    "def interpret_results(labels, predictions):\n",
    "    i = 0\n",
    "    for label in labels:\n",
    "        print(label, predictions[0][i])\n",
    "        # on realise ici un test et une incrementation de i afin de passer outre le dossier .DS_store\n",
    "        if(i==1):\n",
    "            i=i+1\n",
    "        i = i+1"
   ]
  },
  {
   "cell_type": "code",
   "execution_count": 84,
   "metadata": {},
   "outputs": [
    {
     "data": {
      "text/plain": [
       "(64, 224, 224, 3)"
      ]
     },
     "execution_count": 84,
     "metadata": {},
     "output_type": "execute_result"
    }
   ],
   "source": [
    "X_test.shape"
   ]
  },
  {
   "cell_type": "code",
   "execution_count": 85,
   "metadata": {},
   "outputs": [
    {
     "data": {
      "image/png": "[encoded data removed]",
      "text/plain": [
       "<PIL.Image.Image image mode=RGB size=224x224 at 0x138C11518>"
      ]
     },
     "execution_count": 85,
     "metadata": {},
     "output_type": "execute_result"
    }
   ],
   "source": [
    "test_id = 4\n",
    "test_images[test_id]"
   ]
  },
  {
   "cell_type": "code",
   "execution_count": 86,
   "metadata": {},
   "outputs": [
    {
     "data": {
      "text/plain": [
       "array([[1.5848894e-18, 6.8889590e-27, 6.9512289e-13, 1.6576708e-07,\n",
       "        1.1010832e-19, 4.6793947e-01, 5.3206033e-01, 2.7668845e-10]],\n",
       "      dtype=float32)"
      ]
     },
     "execution_count": 86,
     "metadata": {},
     "output_type": "execute_result"
    }
   ],
   "source": [
    "img_reshaped = X_test[test_id].reshape(1, *X_test[test_id].shape)\n",
    "custom_model.predict(img_reshaped)"
   ]
  },
  {
   "cell_type": "code",
   "execution_count": 87,
   "metadata": {},
   "outputs": [],
   "source": [
    "def predict_image_using_custom(img_path, custom_model):\n",
    "    \"\"\"\n",
    "    Open image, convert it to an array, and run predictions\n",
    "    using a trained model.\n",
    "    \"\"\"\n",
    "    # load an image from file\n",
    "    image = load_img(img_path, target_size=(224, 224))\n",
    "    # convert the image pixels to a numpy array\n",
    "    image = img_to_array(image)\n",
    "    # reshape data for the model\n",
    "    image = image.reshape(\n",
    "        (1, image.shape[0], image.shape[1], image.shape[2]))\n",
    "    image = preprocess_input(image)\n",
    "    y_pred = custom_model.predict(image)\n",
    "    \n",
    "    return y_pred"
   ]
  },
  {
   "cell_type": "code",
   "execution_count": 122,
   "metadata": {},
   "outputs": [],
   "source": [
    "test_id = 24\n",
    "my_pred = predict_image_using_custom(test_filenames[test_id], custom_model)\n"
   ]
  },
  {
   "cell_type": "markdown",
   "metadata": {},
   "source": [
    "####  TODO Commentaire sur le résultat des prédiction de notre modèle custom"
   ]
  },
  {
   "cell_type": "code",
   "execution_count": 123,
   "metadata": {},
   "outputs": [
    {
     "name": "stdout",
     "output_type": "stream",
     "text": [
      "tshirt 7.183568e-26\n",
      "bonnet 5.0128194e-17\n",
      "chaussure 3.374759e-30\n",
      "sweatshirt 1.0\n",
      "chausette 5.6056525e-27\n",
      "pantalon 3.3505515e-31\n",
      "boxer 2.0210493e-38\n"
     ]
    }
   ],
   "source": [
    "interpret_results(test_labels, my_pred)"
   ]
  },
  {
   "cell_type": "code",
   "execution_count": 124,
   "metadata": {},
   "outputs": [
    {
     "data": {
      "image/png": "[encoded data removed]",
      "text/plain": [
       "<PIL.Image.Image image mode=RGB size=224x224 at 0x138637668>"
      ]
     },
     "execution_count": 124,
     "metadata": {},
     "output_type": "execute_result"
    }
   ],
   "source": [
    "test_images[test_id]"
   ]
  },
  {
   "cell_type": "markdown",
   "metadata": {},
   "source": [
    "# Projet\n",
    "1. Trouver le sujet de classification d'images\n",
    "2. Créer le jeu de données:\n",
    "    * Télécharger les images de l'Internet\n",
    "    * Utiliser le plugin \"\"Download All Images\"\" de navigateur pour aller plus vite:\n",
    "    * Saisir la requete sur Google Images (par exemple)\n",
    "    * Cliquer sur \"Download All Images\" (le plugin du navigateur)\n",
    "    * Dézipper le fichier téléchargé\n",
    "    * Récupérer seulement des images pertinentes\n",
    "    * Mettre ces images dans votre arboscence:\n",
    "        \"img/<nom_de_l_equipe>/<un_dossier_par_catégorie>/*.png\"\n",
    "    * Créer des matrices X et Y à partir des images:\n",
    "        * itérateur sur les dossiers et les images;\n",
    "        * chargement des images;\n",
    "        * preprocessing lié à VGG16 (ou autre modèle CNN préentrainé que vous allez utiliser);\n",
    "        * création du numpy.array finale depuis la liste des images chargés et prétraités;\n",
    "        * création du vecteur de \"labels\" à partir des noms de dossiers parcourus, pour chaque image (\"adidas adidas adidas cocacola cocacola fdj fdj fdj fdj ....\");\n",
    "        * conversion du vecteur 1-dimensionnel de labels en vecteur M-dimensionnel, où M = nombre de catégories de votre problème: pour cela, utiliser la fonction *to_categorical*. Chaque label doit donc être un vecteur avec des 0.0 et une seule valeur 1.0 sur la position qui correspond à la bonne catégorie.\n",
    "        \n",
    "3. Utiliser un des modèles CNN (convolutional neural network) déjà entrainé (comme VGG ou autre, cf. ici https://keras.io/applications/) pour faire des prédictions sur quelques images de votre dataset. Utiliser \"decode_predictions\" pour afficher à quelles classes appartient des valeurs maximales du vecteur de prédiction\n",
    "\n",
    "* Comme votre use case est spécifique, et les classes présentes dans le modèle VGG ne correspondent pas à votre problème. Il faut donc faire du Transfer Learning:\n",
    "    * Prendre un modèle pré-entrainé (VGG par exemple), mais ne pas utiliser sa dernière couche! (include_top=False). Ne pas oublier de spécifier le format des images en entrée ((224, 224, 3) pour VGG). \n",
    "    * Ajouter une couche Flatten() pour aplaitir la matrice pour obtenir le vecteur 1-dimensionnel.\n",
    "    * Ajouter une couche Dense(nb_classes, activation=\"softmax\")\n",
    "    * Créer un modele *custom* qui va utiliser ces couches-là.\n",
    "    * Comme le modèle VGG sera en version \"cut\" (\"truncated\"), donc elle ne sera pas utilisé pour les prédictions mais seulement pour extraction de features. Donc, il faut préciser que les couches du modèle custom soit déclarés comme \"layer.trainable = False\". Utiliser l'itérateur sur \"custom_model.layers\" afin de préciser quelles couches ne pas entrainer.\n",
    "    * Vérifier avec \"custom_model.summary()\" que seulement les paramètres qui correspondent à la dernière couche Dense seront entrainés (cf. les messages \"Total parameters, Trainable parameters, Non-Trainable parameters\" du summary.\n",
    "    * Déclarer la méthod de \"compilation\" du modèle (fonction de perte, algorithme, métrique) avec \"custom_model.compile(....)\"\n",
    "    * Finalement, ENTRAINER le modèle avec la commande \"custom_modèle.fit\". Utiliser plusieurs nombre de *epochs* (plus est mieux, quitte à laisser le modèle s'entrainer pendant plusieurs heures); varier le *batch_size* en fonction de nombre totale d'images dans votre dataset (batch_size plus élevé accélère l'entrainement mais dégrade le résultat; par contre valeur 1 risque de finir par le \"overfit\", \"surapprentissage\", où le modèle va apprendre par coeur des exemple, mais mal généraliser sur des nouvelles images, donc le score sera mauvais aussi. Trouver la bonne valeur de batch_size, commenter les étapes de votre expérimentation.\n",
    "    \n",
    "    \n",
    "* Charger des images depuis le dossier \"img/test_images\", utiliser le même prétraitement afin d'avoir le même format que des matrices X (pas besoin de Y ici, car vous allez juste lancer des prédictions).\n",
    "* Lancer des prédictions sur ces nouvelles images (custom_model.predict).\n",
    "* Interpréter des prédictions. Quelle catégorie donne la proba maximale?  Afficher l'image dans notebook pour voir ce qu'elle représente. Est-ce que c'est la bonne catégorie qui a été prédite?\n",
    "\n",
    "\n",
    "#### Faire un résumé du projet: qu'est-ce que vous avez fait, quels résultats obtenus. Quel score a votre modèle, est-ce qu'elle prédit bien sur des images de test.\n",
    "#### Commentez votre code!!! \n",
    "    \n",
    "### livrables: GITHUB!!! code + images + requirements.txt, la même arborescence que dl MAIS SANS DOSSIER MYENV!!!  requirements.txt suffira pour recréer \"myenv\" lors de la correction\n",
    "\n",
    "### denis.lazarenko@gmail.com\n",
    "\n",
    "\n",
    "### deadline: 28 avril 2019 , 23:59:59\n",
    "### questions par mail\n",
    "\n",
    "\n",
    "#### Liens utils\n",
    "* training Keras models: \n",
    "  https://keras.io/getting-started/sequential-model-guide/\n",
    "* deep learning tutorial: https://machinelearningmastery.com/use-pre-trained-vgg-model-classify-objects-photographs/\n",
    "* convolution filter produces a feature map (animation): https://www.youtube.com/watch?v=KiftWz544_8"
   ]
  },
  {
   "cell_type": "markdown",
   "metadata": {},
   "source": [
    "Sur l'algorithme vgg16 nous propose ici des resultat relativement cohérents avec le theme de nos images. En effet on observe que l'algorithme nous propose en premiere position avec une tres grande certitude (+95%) une matière dans laquelle le t-shirt a pu être faites meme si la qualite de l'image ne me permet pas de l'affirmer.\n",
    "De plus la plupart des autres propositions reste dans le domaine du vestimentaire, ne particulier des hauts, ce qui est pertinent avec l'exemple etant un t-shirt. \n",
    "Cependant il semblerais qu'après des test avec plusieurs images différentes, la categorie t-shirt ne soit juste pas présente, ce qui justifirais que l'algorithme ne reconnais pas la catégorie reelle de l'objet en question.\n",
    "On peut en conclure que l'algorithme vgg n'as pas été entrainé sur un set de données correspondant aux catégories sur lesquelles je souhaitais réaliser mon étude.\n"
   ]
  },
  {
   "cell_type": "code",
   "execution_count": null,
   "metadata": {},
   "outputs": [],
   "source": []
  },
  {
   "cell_type": "code",
   "execution_count": null,
   "metadata": {},
   "outputs": [],
   "source": []
  },
  {
   "cell_type": "code",
   "execution_count": null,
   "metadata": {},
   "outputs": [],
   "source": []
  },
  {
   "cell_type": "code",
   "execution_count": null,
   "metadata": {},
   "outputs": [],
   "source": []
  }
 ],
 "metadata": {
  "kernelspec": {
   "display_name": "Python 3",
   "language": "python",
   "name": "python3"
  },
  "language_info": {
   "codemirror_mode": {
    "name": "ipython",
    "version": 3
   },
   "file_extension": ".py",
   "mimetype": "text/x-python",
   "name": "python",
   "nbconvert_exporter": "python",
   "pygments_lexer": "ipython3",
   "version": "3.6.7"
  }
 },
 "nbformat": 4,
 "nbformat_minor": 2
}
